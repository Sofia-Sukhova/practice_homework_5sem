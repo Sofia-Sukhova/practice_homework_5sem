{
 "cells": [
  {
   "cell_type": "markdown",
   "metadata": {},
   "source": [
    "# Задача по решению СЛАУ\n",
    "## Вариант о)"
   ]
  },
  {
   "cell_type": "markdown",
   "metadata": {},
   "source": [
    "## 1. Подготовка к решению задачи"
   ]
  },
  {
   "cell_type": "code",
   "execution_count": 14,
   "metadata": {},
   "outputs": [],
   "source": [
    "# импорт библиотек\n",
    "import numpy as np\n",
    "import matplotlib.pyplot as plt\n",
    "\n",
    "# CONSTS\n",
    "N = 100\n",
    "a = np.float64(10.0)\n",
    "b = np.float64(1.0/10.0)"
   ]
  },
  {
   "cell_type": "markdown",
   "metadata": {},
   "source": [
    "Вид системы линейных уравнений  $Ax = b$\n",
    "где $A$ - матрица системы, $b$ - столбец правой части"
   ]
  },
  {
   "cell_type": "code",
   "execution_count": 15,
   "metadata": {},
   "outputs": [],
   "source": [
    "# заполнение матрицы А, вектора b\n",
    "\n",
    "A = np.eye(N, dtype = np.float64)\n",
    "A = A * a\n",
    "for i in range(1, N):\n",
    "    A[i, i - 1] = 1\n",
    "    if i < N - 1:\n",
    "        A[i - 1, i] = 1\n",
    "    if i < N - 1:\n",
    "        A[i - 1, i + 1] = b\n",
    "\n",
    "B = np.arange(1, N + 1)\n",
    "\n",
    "# матрицы, необходимые для к=некоторых расчетов - они упрощают работу с вычислением погрешностей\n",
    "R = (-1.0) * (A - a * np.eye(N, dtype = np.float64))\n",
    "Temp = np.linalg.inv(np.tril(A, k = 0)).dot((A - np.tril(A, k = 0)))\n"
   ]
  },
  {
   "cell_type": "code",
   "execution_count": 16,
   "metadata": {},
   "outputs": [
    {
     "name": "stdout",
     "output_type": "stream",
     "text": [
      "Машинное эпсилон : 1.1102230246251565e-16\n",
      "epsilon A: 1.1102230246251565e-16 \n",
      "epsilon B: 1.1102230246251565e-16\n"
     ]
    }
   ],
   "source": [
    "# определение эпсилон машинного для типа float64\n",
    "\n",
    "i = 0\n",
    "epsFloat = np.float64(1.0)\n",
    "while (1 + epsFloat) != 1:\n",
    "        epsFloat  = epsFloat / 2\n",
    "        i += 1\n",
    "print(\"Машинное эпсилон :\", epsFloat)\n",
    "\n",
    "# матрица абсолютных погрешностей А\n",
    "deltaA = epsFloat * A\n",
    "\n",
    "# столбец абсолютных погрешностей b\n",
    "deltaB = epsFloat * B\n",
    "\n",
    "epsB = np.linalg.norm(deltaB, ord = 2) / np.linalg.norm(B, ord = 2)\n",
    "epsA = np.linalg.norm(deltaA, ord = 2) / np.linalg.norm(A, ord = 2)\n",
    "\n",
    "print(\"epsilon A:\", epsA, \"\\nepsilon B:\", epsB)\n"
   ]
  },
  {
   "cell_type": "markdown",
   "metadata": {},
   "source": [
    "### 2. Алгоритм Гаусса "
   ]
  },
  {
   "cell_type": "code",
   "execution_count": 17,
   "metadata": {},
   "outputs": [],
   "source": [
    "# программирование метода Гаусса\n",
    "def HaussSolve(A, B = None):\n",
    "    n = len(B)\n",
    "    C = A.copy()\n",
    "\n",
    "    # делаем расширенную матрицу системы\n",
    "    if B is not None:\n",
    "        C = np.c_[C, B]\n",
    "\n",
    "    # прямой ход алгоритма Гаусса\n",
    "    for nstr in range(n):\n",
    "        # смена строк, чтобы на текущем месте была строка с максимальным диагональным элементом\n",
    "        value = nstr + np.argmax(abs(C[nstr:, nstr]))\n",
    "        if value != nstr:\n",
    "\t        C[nstr], C[value] = C[value], np.copy(C[nstr])\n",
    "        # производим прямой ход алгоритма Гаусса построчно\n",
    "        C[nstr, nstr:] /= C[nstr, nstr]\n",
    "        for cstr in C[(nstr + 1):]:\n",
    "            cstr -= C[nstr] * cstr[nstr]\n",
    "        \n",
    "        \n",
    "    # Обратный ход алгоритма Гаусса\n",
    "    for nstr in range(n - 1, 0, -1):\n",
    "        for cstr in C[:(nstr)]:\n",
    "            cstr -= C[nstr] * cstr[nstr]\n",
    "\n",
    "    return C[:, -1]\n",
    "\n"
   ]
  },
  {
   "cell_type": "markdown",
   "metadata": {},
   "source": [
    "## 3. Расчет вычислительной погрешности для исходной системы и для систем с выбранной правой частью"
   ]
  },
  {
   "cell_type": "markdown",
   "metadata": {},
   "source": [
    "+ По основной теореме оценим вычислительную погрешность полученного точного решения, принимая $\\| \\delta f\\| = \\| \\delta A\\| = \\epsilon_{маш}$\n",
    "\n",
    "$AU = f$\n",
    "\n",
    "$\\| \\delta U\\| = \\frac{\\mu}{1 - \\mu \\| \\delta A \\|}(\\| \\delta A \\| + \\| \\delta f\\|)$"
   ]
  },
  {
   "cell_type": "code",
   "execution_count": 18,
   "metadata": {},
   "outputs": [
    {
     "name": "stdout",
     "output_type": "stream",
     "text": [
      "Нормы матриц: 12.1 12.1 12.098823914668102\n",
      "Число обусловленности матрицы А: \n",
      "по норме 1 -  1.4970992831504324 \n",
      "по норме 2 -  1.5064472594732172 \n",
      "по норме 3 -  1.4935358394602174\n",
      "Оценка относительной вычислительной погрешности (по норме 3) полученного точного решения: 3.31631575414319e-16\n",
      "Оценка относительной вычислительной погрешности (по норме 3) полученного точного решения в пренебрежении погрешностью delta А: 1.6581578770715948e-16\n"
     ]
    }
   ],
   "source": [
    "# нормы матриц\n",
    "norm1 = np.linalg.norm(A, ord = 1)\n",
    "norm2 = np.linalg.norm(A, ord = np.inf)\n",
    "norm3 = np.linalg.norm(A, ord = 2)\n",
    "\n",
    "print(\"Нормы матриц:\", norm1, norm2, norm3)\n",
    "\n",
    "# точное решение\n",
    "U = HaussSolve(A, B)\n",
    "normU = np.linalg.norm(U, ord = 2)\n",
    "\n",
    "# число обусловленности \n",
    "Mu1 = norm1 * np.linalg.norm(np.linalg.inv(A), ord = 1)\n",
    "Mu2 = norm2 * np.linalg.norm(np.linalg.inv(A), ord = np.inf)\n",
    "Mu3 = norm3 * np.linalg.norm(np.linalg.inv(A), ord = 2)\n",
    "print(\"Число обусловленности матрицы А:\", \"\\nпо норме 1 - \" , Mu1, \"\\nпо норме 2 - \", Mu2, \"\\nпо норме 3 - \" , Mu3)\n",
    "\n",
    "# вычисление абсолютной погрешности решения\n",
    "NormDeltaU = Mu3 / (1 - Mu3 * epsA ) * ( epsB + epsA )\n",
    "print(\"Оценка относительной вычислительной погрешности (по норме 3) полученного точного решения:\", NormDeltaU)\n",
    "\n",
    "# вычисление абсолютной погрешности решения, учитывая, что delta A примерно 0\n",
    "NormDeltaU = Mu3 * epsB\n",
    "print(\"Оценка относительной вычислительной погрешности (по норме 3) полученного точного решения в пренебрежении погрешностью delta А:\", NormDeltaU)"
   ]
  },
  {
   "cell_type": "markdown",
   "metadata": {},
   "source": [
    "+ Найдем вектора $F_{max}$ и $F_{min}$ на которых достигается максимальная и минимальная вычислительная погрешность решения (вывод соотношения приведен в отчете, пункт 1.5)"
   ]
  },
  {
   "cell_type": "code",
   "execution_count": 19,
   "metadata": {},
   "outputs": [],
   "source": [
    "# найдем значения правой части, которые отвечают максимальной и минимальной вычислительной погрешностям \n",
    "\n",
    "# собственные числа матрицы А, A^(-1)\n",
    "L, v = np.linalg.eigh(A.dot(A.T))\n",
    "Li, vi = np.linalg.eigh(np.linalg.inv(A).dot(np.linalg.inv(A).T))\n",
    "\n",
    "# на F достигается (в теориии) максимальная погрешность вычисления решения\n",
    "Fmax= A.dot(v[np.argmax(L)])\n",
    "\n",
    "# на F достигается (в теории) минимальная погрешность вычисления решения \n",
    "Fmin = vi[np.argmax(Li)]"
   ]
  },
  {
   "cell_type": "code",
   "execution_count": 20,
   "metadata": {},
   "outputs": [
    {
     "name": "stdout",
     "output_type": "stream",
     "text": [
      "реальная вычислительная погрешность:  1.2833015559581555e-16  теоретическая вычислительная погрешность:  1.6581578770715948e-16\n",
      "реальная вычислительная погрешность:  1.0995791511731737e-16  теоретическая вычислительная погрешность:  7.43352114688058e-17\n"
     ]
    }
   ],
   "source": [
    "# в качестве eps(f) {Ax = f} выбрано epsFloat \n",
    "\n",
    "# проверка соответствия априорной погрешности (максимальной и минимальной) и реальной  погрешности вычислений\n",
    "# Fmax \n",
    "Umax = HaussSolve(A, Fmax)\n",
    "epsilon = np.linalg.norm(Umax - v[np.argmax(L)], ord = 2) / np.linalg.norm(Umax, ord = 2)\n",
    "print(\"реальная вычислительная погрешность: \", epsilon, \" теоретическая вычислительная погрешность: \", Mu3*epsFloat)\n",
    "\n",
    "# Fmin\n",
    "Umin = HaussSolve(A, Fmin)\n",
    "epsilon = np.linalg.norm(Umin - np.linalg.solve(A, Fmin), ord = 2) / np.linalg.norm(Umin, ord = 2)\n",
    "print(\"реальная вычислительная погрешность: \", epsilon, \" теоретическая вычислительная погрешность: \", epsFloat/Mu3)"
   ]
  },
  {
   "cell_type": "markdown",
   "metadata": {},
   "source": [
    "+ Так как на самом деле при вычислении на машине мы не можем произвольно выбирать $\\| \\Delta f \\|$ (если ошибка заключается в $ \\epsilon_{маш}$ то вектора $\\Delta f$ и $f$ коллинеарны).\n",
    "\n",
    "Поэтому нам нужно уточнить оценку границ получаемой вычислительной погрешности решения (оценка приведена в отчете, пункт 1.6)"
   ]
  },
  {
   "cell_type": "code",
   "execution_count": 21,
   "metadata": {},
   "outputs": [
    {
     "name": "stdout",
     "output_type": "stream",
     "text": [
      "реальная вычислительная погрешность:  1.0995791511731737e-16  теоретическая вычислительная погрешность:  1.1102230246251565e-16\n"
     ]
    }
   ],
   "source": [
    "# проверка соответствия априорной погрешности (максимальной и минимальной) и реальной  погрешности вычислений\n",
    "# при учете пункта 1.6 письменного отчета\n",
    "\n",
    "# Fmin\n",
    "Umin = HaussSolve(A, Fmin)\n",
    "epsilon = np.linalg.norm(Umin - np.linalg.solve(A, Fmin), ord = 2) / np.linalg.norm(Umin, ord = 2)\n",
    "\n",
    "print(\"реальная вычислительная погрешность: \", epsilon, \" теоретическая вычислительная погрешность: \", epsFloat)"
   ]
  },
  {
   "cell_type": "markdown",
   "metadata": {},
   "source": [
    "+ Подбор тестового решения\n",
    "\n",
    "Попытаемся выбрать точное (целочисленное решение системы) таким образом, чтобы достигаемая на нем вычислительная погрешность становилась как можно большей. Оценка приведена в отчете, пункт 1.7 "
   ]
  },
  {
   "cell_type": "code",
   "execution_count": 22,
   "metadata": {},
   "outputs": [
    {
     "name": "stdout",
     "output_type": "stream",
     "text": [
      "Вычислительная погрешность тестового решения (по норме 1) 1.7704230317376498e-16\n"
     ]
    }
   ],
   "source": [
    "Utest = np.round(v[np.argmax(L)] , decimals = 4)\n",
    "Ftest = A.dot(Utest)\n",
    "UtestSolve = HaussSolve(A, Ftest)\n",
    "epsilon = np.linalg.norm(UtestSolve - Utest, ord = 2) /  np.linalg.norm(Utest, ord = 2)\n",
    "print (\"Вычислительная погрешность тестового решения (по норме 1)\", epsilon)\n",
    "\n"
   ]
  },
  {
   "cell_type": "markdown",
   "metadata": {},
   "source": [
    "Данная погрешность превышает полученную ранее погрешность для $F_{max}$. Скорее всего это возникает из-за промежуточных дополнительных вычислений (умножение матрицы на столбец тестового решения вносит дополнительную ошибку). \n",
    "\n",
    "То есть мы можем пользоваться данным тестовым решением как хорошим проверочным, т.к. оно дает большую (достаточно) вычислительную погрешность."
   ]
  },
  {
   "cell_type": "markdown",
   "metadata": {},
   "source": [
    "## 4. Построение функций для вычисления последовательных приближений и различного рода критериев останова"
   ]
  },
  {
   "cell_type": "code",
   "execution_count": 23,
   "metadata": {},
   "outputs": [],
   "source": [
    "\n",
    "# функция вычисления последовательного приближения\n",
    "# fx = Rx + B\n",
    "def CalculateApprox (a, R, B, f):\n",
    "    curr = np.zeros(len(a), dtype = np.float64)\n",
    "    curr = a.copy()\n",
    "    for i in range(len(curr)):\n",
    "        if R[i,i] != 0:\n",
    "            print (\"Error in R matrix!\\n\")\n",
    "            return a\n",
    "        tmp = R.dot(curr)\n",
    "        curr[i] = (B[i] + tmp[i]) / f[i]\n",
    "    return curr\n",
    "\n",
    "# функция вычисления k -го последовательного приближения\n",
    "def CalculateApproxK (a, R, B, f, k):\n",
    "    b = a.copy()\n",
    "    for i in range(k):\n",
    "        b = CalculateApprox(b, R, B, f)\n",
    "    return b \n",
    "\n",
    "# вычисление невязки по норме k\n",
    "# r = f - Ax\n",
    "def CalculateDiscrep (x, A, B, k):\n",
    "    r = np.zeros(len(x), dtype = np.float64)\n",
    "    r = B - A.dot(x)\n",
    "    norm = np.linalg.norm(r, ord = k)\n",
    "    return norm\n",
    "\n",
    "# вычисление нормы (K) погрешности n-го приближения относительно точного решения\n",
    "def CalculateErrorSolut (B, eps0, n, k):\n",
    "    normB = np.linalg.norm(B, ord = k)\n",
    "    normEps = np.linalg.norm(eps0, ord = k)\n",
    "    norm = np.float64((normB ** n) / (1 - normB) * normEps )\n",
    "    return np.abs(norm)\n",
    "\n",
    "#вычисление нормы (K) погрешности n-го приближения относительно n-1 приближения\n",
    "def CalculateErrorSubs (Xn, Xn1, k):\n",
    "    Xn1 = Xn1 - Xn\n",
    "    return np.linalg.norm(Xn1, ord = k)\n",
    "\n"
   ]
  },
  {
   "cell_type": "code",
   "execution_count": 24,
   "metadata": {},
   "outputs": [
    {
     "name": "stdout",
     "output_type": "stream",
     "text": [
      "Разница между приближенным и точным решением (по норме 3): \n",
      "по невязке: 6.145212311185426e-15 достигнута за  19  итераций\n",
      "по разнице относительно точного решения: 6.521260943100148e-15 достигнута за  17  итераций\n",
      "по разнице соседних приближений: 6.144961583414001e-15 достигнута за  18  итераций\n"
     ]
    }
   ],
   "source": [
    "# вычисление приближенного решения с разными критериями останова\n",
    "\n",
    "x = np.zeros(len(B), dtype = np.float64)\n",
    "f = np.full((len(B), 1), a, dtype = np.float64)\n",
    "\n",
    "# по невязке, норма 3\n",
    "# приближение (условие выхода из цикла) выбрано именно так, потому что разница по невязке достигает определенного значения, \n",
    "# сравнимого с epsFloat, но немного его превышающего и далее не становится меньше.\n",
    "counter = 0\n",
    "epsilon = 1\n",
    "epsilon_new = 1\n",
    "while ( epsilon_new != epsilon or counter == 0):\n",
    "     epsilon = epsilon_new\n",
    "     x = CalculateApprox (x, R, B, f)\n",
    "     epsilon_new = (CalculateDiscrep(x, A, B, 2) / np.linalg.norm(x, ord = 2))\n",
    "     counter += 1\n",
    "\n",
    "print (\"Разница между приближенным и точным решением (по норме 3): \")\n",
    "print ( \"по невязке:\", np.linalg.norm(x - U, ord = 2), \"достигнута за \", counter, \" итераций\")\n",
    "\n",
    "# по относительной погрешности, норма 3\n",
    "x = np.zeros(len(B), dtype = np.float64)\n",
    "counter = 0\n",
    "eps0 = np.zeros(len(B), dtype = np.float64)\n",
    "epsilon = 1\n",
    "while ( epsilon >= epsFloat or counter == 0):\n",
    "     if (counter == 0):\n",
    "          eps0 = CalculateApprox (x, R, B, f) - x\n",
    "     x = CalculateApprox (x, R, B, f)\n",
    "     counter += 1\n",
    "     epsilon = CalculateErrorSolut(Temp, eps0, counter, 2) / np.linalg.norm(x, ord = 2)\n",
    "\n",
    "print(\"по разнице относительно точного решения:\", np.linalg.norm(x - U, ord = 2), \"достигнута за \", counter, \" итераций\")\n",
    "\n",
    "# по погрешности соседних приближений, норма 3\n",
    "x = np.zeros(len(B), dtype = np.float64)\n",
    "counter = 0\n",
    "epsilon = 1\n",
    "while ( epsilon >= epsFloat or counter == 0):\n",
    "     if np.linalg.norm(x, ord = 2) > 0 :\n",
    "          epsilon = CalculateErrorSubs(CalculateApprox(x, R, B, f), x, 2) / np.linalg.norm(x, ord = 2)\n",
    "     x = CalculateApprox (x, R, B, f)\n",
    "     counter += 1\n",
    "     \n",
    "print(\"по разнице соседних приближений:\", np.linalg.norm(x - U, ord = 2), \"достигнута за \", counter, \" итераций\")"
   ]
  },
  {
   "cell_type": "markdown",
   "metadata": {},
   "source": [
    "+ кусок про плохо обусловленную матрицу "
   ]
  },
  {
   "cell_type": "markdown",
   "metadata": {},
   "source": [
    "## 5. Построение графиков для сравнения скорости убывания ошибок"
   ]
  },
  {
   "cell_type": "code",
   "execution_count": 25,
   "metadata": {},
   "outputs": [
    {
     "data": {
      "image/png": "[encoded data removed]",
      "text/plain": [
       "<Figure size 1200x700 with 1 Axes>"
      ]
     },
     "metadata": {},
     "output_type": "display_data"
    }
   ],
   "source": [
    "# построение графиков для анализа скорости убывания относительной погрешности\n",
    "\n",
    "k = np.arange(1, 28)\n",
    "x = np.zeros(N, dtype = np.float64) + 1\n",
    "\n",
    "E1 = np.zeros(len(k))\n",
    "E2 = np.zeros(len(k))\n",
    "E3 = np.zeros(len(k))\n",
    "\n",
    "for i in range(len(k)):\n",
    "    E1[i] = np.log10(CalculateDiscrep(x, A, B, 2) / np.linalg.norm(x, ord = 2))\n",
    "    x1 = CalculateApprox(x, R, B, f)\n",
    "    if i == 0:\n",
    "        eps0 = x1 - x\n",
    "    if (i > 0):\n",
    "        E2[i] = np.log10(CalculateErrorSolut(Temp, eps0, k[i], 2)/ np.linalg.norm(x1, ord = 2))\n",
    "        if (x1 != x).any():\n",
    "            E3[i] = np.log10(CalculateErrorSubs(x1, x, 2)/ np.linalg.norm(x1, ord = 2))\n",
    "        else:\n",
    "            E3[i] = (-1)*np.inf\n",
    "    x = x1\n",
    "\n",
    "# построение графиков \n",
    "\n",
    "plt.figure(figsize=[12,7])\n",
    "plt.plot(k, E1, '.', label = \"невязка\")\n",
    "plt.plot(k, E2, '.', label = \"погрешность абсолютная\")\n",
    "plt.plot(k, E3, '.', label = \"погрешность соседних\")\n",
    "\n",
    "plt.xlabel(\"$k$\")\n",
    "plt.ylabel(\"$lg(epsilon)$\")\n",
    "plt.title(\"Сходимость погрешности решения к нулю (итерационного решения к истинному решению) в зависимости от порядка приближения.\\n\")\n",
    "\n",
    "plt.legend()\n",
    "plt.show()"
   ]
  },
  {
   "cell_type": "markdown",
   "metadata": {},
   "source": [
    "### Анализ графиков\n",
    "\n",
    "* *Невязка* \n",
    "\n",
    "    Мы видим, что до некоторых пор график линейно убывает -- это отображает характер скорости уменьшения погрешности -- как геометрическая прогрессия. Затем относительная погрешность невязки по отношению к решению перестает уменьшаться. Как можно заметить, это происходит при достижении величин погрешности порядка $ \\epsilon _{маш} $. \n",
    "\n",
    "* *Погрешность относительно точного решения*\n",
    "\n",
    "    Данная погрешность монотонно убывает (в логарифмическом масштабе) - это объясняется тем, что данная погрешность вычисляется по формуле, не учитывающей разницу между последовательными приближениями, а основывается только на номере приближения и разности первого и нулевого приближений.\n",
    "\n",
    "* *Погрешность соседних решений*\n",
    "\n",
    "    Данный график построен только до значений $k = 18$ так как в данном случае вычисляется погрешность по разности двух последовательных приближений. И по достижении $ \\epsilon _{маш} $ данная ошибка обращается в 0 - логарифм обращается в $ - \\infty$."
   ]
  },
  {
   "cell_type": "code",
   "execution_count": 26,
   "metadata": {},
   "outputs": [
    {
     "name": "stdout",
     "output_type": "stream",
     "text": [
      "[[ 0.         -0.33333333  0.        ]\n",
      " [ 0.          0.33333333  1.16666667]\n",
      " [ 0.          0.12962963  0.4537037 ]]\n",
      "[0.         0.25059862 0.53643842]\n",
      "1.3052957100503522\n"
     ]
    }
   ],
   "source": [
    "A = np.array([[0, -6, 0], [0, 6, 21], [0, 7/3, 49/6]])\n",
    "A[:, :] /= 18\n",
    "\n",
    "print (A)\n",
    "L, v = np.linalg.eigh(A)\n",
    "print(L)\n",
    "\n",
    "print(np.linalg.norm(A, ord = 2))"
   ]
  }
 ],
 "metadata": {
  "kernelspec": {
   "display_name": "Python 3.9.5 64-bit",
   "language": "python",
   "name": "python3"
  },
  "language_info": {
   "codemirror_mode": {
    "name": "ipython",
    "version": 3
   },
   "file_extension": ".py",
   "mimetype": "text/x-python",
   "name": "python",
   "nbconvert_exporter": "python",
   "pygments_lexer": "ipython3",
   "version": "3.9.5"
  },
  "orig_nbformat": 4,
  "vscode": {
   "interpreter": {
    "hash": "aee8b7b246df8f9039afb4144a1f6fd8d2ca17a180786b69acc140d282b71a49"
   }
  }
 },
 "nbformat": 4,
 "nbformat_minor": 2
}
